{
 "cells": [
  {
   "cell_type": "code",
   "execution_count": 1,
   "metadata": {},
   "outputs": [],
   "source": [
    "import cv2\n",
    "import numpy as np\n",
    "import matplotlib.pyplot as plt"
   ]
  },
  {
   "cell_type": "code",
   "execution_count": 2,
   "metadata": {},
   "outputs": [],
   "source": [
    "import matplotlib\n",
    "matplotlib.rcParams['figure.figsize'] = (10.0, 10.0)\n",
    "matplotlib.rcParams['image.cmap'] = 'gray'"
   ]
  },
  {
   "cell_type": "markdown",
   "metadata": {},
   "source": [
    "# Instructions\n",
    "\n",
    "```\n",
    "\n",
    "This was done on a Jupyter Notebook.\n",
    "\n",
    "/////////////////////////////////////////////////////////////////////////////\n",
    "\n",
    "INSTRUCTIONS\n",
    "\n",
    "/////////////////////////////////////////////////////////////////////////////\n",
    "\n",
    "** I've only tested this on a background image larger than the video image(in both width, and height)\n",
    "\n",
    "- You can create use the scrollbar at the top to get the greenscreen color \n",
    "\n",
    "###OR \n",
    "\n",
    "you can shift + left mouse button on image to grab the pixel color\n",
    "\n",
    "- Press 'Enter', also change the tolerance slider, \n",
    "the background won't change until a certain threshold is reached in the tolerance slider\n",
    "\n",
    "```"
   ]
  },
  {
   "cell_type": "code",
   "execution_count": 3,
   "metadata": {},
   "outputs": [],
   "source": [
    "path_vid = 'greenscreen-asteroid.mp4'\n",
    "path_bg = 'free-hd-Ocean-Backgrounds.jpg'\n",
    "\n",
    "# Global Setup\n",
    "ini_window = 10 # setup the initial window size\n",
    "k_timer = 25 # for waitKey(k_timer)\n",
    "c_5x5 = cv2.getStructuringElement(cv2.MORPH_CROSS, (5,5)) # only need to make the kernel once\n",
    "c_3x3 = cv2.getStructuringElement(cv2.MORPH_CROSS, (3,3)) # only need to make the kernel once"
   ]
  },
  {
   "cell_type": "markdown",
   "metadata": {},
   "source": [
    "# Window Callback functions"
   ]
  },
  {
   "cell_type": "code",
   "execution_count": 4,
   "metadata": {},
   "outputs": [],
   "source": [
    "# R trackbar event caller\n",
    "def EventTrkChangeRed(*args):\n",
    "  global r_val\n",
    "  r_val = args[0]\n",
    "  return\n",
    "\n",
    "# G trackbar event caller\n",
    "def EventTrkChangeGreen(*args):\n",
    "  global g_val\n",
    "  g_val = args[0]\n",
    "  return\n",
    "\n",
    "# B trackbar event caller\n",
    "def EventTrkChangeBlue(*args):\n",
    "  global b_val\n",
    "  b_val = args[0]\n",
    "  return\n",
    "\n",
    "def EventTrkChangeTolerance(*args):\n",
    "  global tol_val\n",
    "  tol_val = args[0]\n",
    "  return\n",
    "\n",
    "def EventTrkChangeSoftness(*args):\n",
    "  global soft_val\n",
    "  soft_val = args[0]\n",
    "  return"
   ]
  },
  {
   "cell_type": "markdown",
   "metadata": {},
   "source": [
    "# Image Processing"
   ]
  },
  {
   "cell_type": "code",
   "execution_count": 10,
   "metadata": {},
   "outputs": [],
   "source": [
    "'''\n",
    "HSV Masking\n",
    "'''\n",
    "def UpdateImage(frame : np.array) -> np.array:\n",
    "\n",
    "  global r_val, g_val, b_val, c_5x5, c_3x3, ini_window, bg\n",
    "  \n",
    "  px_bgr = np.zeros((1,1,3), np.uint8)\n",
    "  px_bgr[0,0,0], px_bgr[0,0,1], px_bgr[0,0,2] = b_val, g_val, r_val\n",
    "  px_hsv = cv2.cvtColor(px_bgr, cv2.COLOR_BGR2HSV)\n",
    "  h_val, s_val, v_val = px_hsv[0,0,0], px_hsv[0,0,1], px_hsv[0,0,2]\n",
    "  \n",
    "# #   Debug\n",
    "#   print(px_hsv)\n",
    "#   print(h_val, s_val, v_val)\n",
    "#   print('\\n')\n",
    "  \n",
    "  frame_hsv = cv2.cvtColor(frame, cv2.COLOR_BGR2HSV).astype(np.uint8)\n",
    "  row_frame, col_frame, dim = frame.shape\n",
    "  row_bg, col_bg, _ = bg.shape\n",
    "  \n",
    "  lower_h, upper_h = max(0, h_val - ini_window - h_val*tol_val/200), min(180, h_val + ini_window + h_val*tol_val/200)\n",
    "  lower_s, upper_s = max(0, s_val - ini_window - s_val*tol_val/200), min(255, s_val + ini_window + s_val*tol_val/200)\n",
    "  lower_v, upper_v = max(0, v_val - ini_window - v_val*tol_val/200), min(255, v_val + ini_window + v_val*tol_val/200)\n",
    "  \n",
    "  mask_h = cv2.inRange(frame_hsv[:,:,0], lower_h, upper_h)\n",
    "  mask_s = cv2.inRange(frame_hsv[:,:,1], lower_s, upper_s)\n",
    "  mask_v = cv2.inRange(frame_hsv[:,:,2], lower_v, upper_v)\n",
    "  mask = (mask_h & mask_s & mask_v) == 255\n",
    "\n",
    "  min_row, min_col = min(row_bg, row_frame), min(col_bg, col_frame)\n",
    "  cropped_bg = bg[:min_row, :min_col, :]\n",
    "  cropped_mask = mask[:min_row, :min_col]\n",
    "  frame[mask == True] = cropped_bg[mask]\n",
    "#   frame[mask[:min_row, :min_col] == True] = bg[:min_row,:min_col, :][mask[:min_row, :min_col]]\n",
    "\n",
    "  return frame"
   ]
  },
  {
   "cell_type": "markdown",
   "metadata": {},
   "source": [
    "# Mouse Event"
   ]
  },
  {
   "cell_type": "code",
   "execution_count": 6,
   "metadata": {},
   "outputs": [],
   "source": [
    "# on Shift + left mouse button\n",
    "# get the color sample at x, y\n",
    "# then change the HSV bar to equal the resulting sample color\n",
    "def onMouseEvent(event, x, y, flags, params):\n",
    "  global r_val, g_val, b_val, frame_is_none\n",
    "  if event == cv2.EVENT_LBUTTONDOWN and flags == cv2.EVENT_FLAG_SHIFTKEY + 1:\n",
    "    if frame is None:\n",
    "      print('Null frame')\n",
    "      return\n",
    "#     print((y,x), frame.shape)\n",
    "    px = frame[y:y+1,x:x+1]\n",
    "#     print(px)\n",
    "    r_val, g_val, b_val = px[0][0]\n",
    "  return"
   ]
  },
  {
   "cell_type": "markdown",
   "metadata": {},
   "source": [
    "# Features\n",
    "\n",
    "+ 2 features required : color sampler, tolerance slider(take mean of RGB take the percentage difference as an ```inrange``` window)\n",
    "+ 2 features optional : softness slider, color cast\n",
    "+ softness slider implementation: Blur original image. perform distance calculation on binary (do once) -> binary threshold on distance image(perform every trackbar change)"
   ]
  },
  {
   "cell_type": "markdown",
   "metadata": {},
   "source": [
    "### Code for video loop\n",
    "```\n",
    "frame_counter += 1\n",
    "#If the last frame is reached, reset the capture and the frame_counter\n",
    "if frame_counter == cap.get(cv2.cv.CV_CAP_PROP_FRAME_COUNT):\n",
    "    frame_counter = 0 #Or whatever as long as it is the same as next line\n",
    "    cap.set(cv2.cv.CV_CAP_PROP_POS_FRAMES, 0)\n",
    "```"
   ]
  },
  {
   "cell_type": "code",
   "execution_count": 12,
   "metadata": {},
   "outputs": [],
   "source": [
    "cap = cv2.VideoCapture(path_vid)\n",
    "\n",
    "if(not cap.isOpened()):\n",
    "  print('Something went wrong with the video')\n",
    "else:\n",
    "  # initial setup\n",
    "  bg = cv2.imread(path_bg)\n",
    "  k = 0 # reads keyboard inputs\n",
    "  isConverting = False # True -> perform chroma keying, False -> don't perform chroma_keying\n",
    "  frame_counter = 0\n",
    "  cal_win = 'Calibration Window'\n",
    "  r_txt, g_txt, b_txt = 'Red', 'Green', 'Blue'\n",
    "  r_val, r_max = 0, 255\n",
    "  g_val, g_max = 0, 255\n",
    "  b_val, b_max = 0, 255\n",
    "  tol_txt, tol_val, tol_max = 'Tolerance(%)', 0, 100\n",
    "  soft_txt, soft_val, soft_max = 'Softness(%)', 0, 100\n",
    "  \n",
    "  while cap.isOpened() and k != 27:\n",
    "    frame_counter += 1\n",
    "    if k == ord('r'):\n",
    "      frame_counter = 0\n",
    "      cap.set(cv2.CAP_PROP_POS_FRAMES, 0)\n",
    "    ret, frame = cap.read()\n",
    "    cv2.namedWindow(cal_win, cv2.WINDOW_NORMAL)\n",
    "    cv2.createTrackbar(r_txt, cal_win, r_val, r_max, EventTrkChangeRed)\n",
    "    cv2.createTrackbar(g_txt, cal_win, g_val, g_max, EventTrkChangeGreen)\n",
    "    cv2.createTrackbar(b_txt, cal_win, b_val, b_max, EventTrkChangeBlue)\n",
    "    cv2.createTrackbar(tol_txt, cal_win, tol_val, tol_max, EventTrkChangeTolerance)\n",
    "#     cv2.createTrackbar(soft_txt, cal_win, soft_val, soft_max, EventTrkChangeSoftness)\n",
    "    cv2.setMouseCallback(cal_win, onMouseEvent)\n",
    "    if k == 13: # enter key\n",
    "      isConverting = ~isConverting\n",
    "    if ret:\n",
    "      new_frame = None\n",
    "      if isConverting:\n",
    "        k_timer = 5\n",
    "        new_frame = UpdateImage(frame)\n",
    "      else:\n",
    "        k_timer = 25\n",
    "        new_frame = frame\n",
    "      cv2.imshow(cal_win, new_frame)\n",
    "    k = cv2.waitKey(k_timer) & 0xff # read user keyboard input\n",
    "cap.release()\n",
    "cv2.destroyAllWindows()"
   ]
  },
  {
   "cell_type": "code",
   "execution_count": null,
   "metadata": {},
   "outputs": [],
   "source": []
  }
 ],
 "metadata": {
  "kernelspec": {
   "display_name": "Python 3",
   "language": "python",
   "name": "python3"
  },
  "language_info": {
   "codemirror_mode": {
    "name": "ipython",
    "version": 3
   },
   "file_extension": ".py",
   "mimetype": "text/x-python",
   "name": "python",
   "nbconvert_exporter": "python",
   "pygments_lexer": "ipython3",
   "version": "3.7.5"
  }
 },
 "nbformat": 4,
 "nbformat_minor": 2
}
